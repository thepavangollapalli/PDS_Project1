{
 "cells": [
  {
   "cell_type": "code",
   "execution_count": 18,
   "metadata": {
    "collapsed": true
   },
   "outputs": [],
   "source": [
    "import pandas as pd \n",
    "import numpy as np"
   ]
  },
  {
   "cell_type": "code",
   "execution_count": 19,
   "metadata": {
    "collapsed": true
   },
   "outputs": [],
   "source": [
    "checkins = pd.read_json('dataset/checkin.json', lines = True);\n",
    "# business = pd.read_json('dataset/business.json', lines = True);\n",
    "# users = pd.read_json('dataset/user.json', lines = True);\n",
    "# tips = pd.read_json('dataset/tip.json', lines = True);\n",
    "# reviews = pd.read_json('dataset/reviews.json', lines = True);\n",
    "# photos = pd.read_json('dataset/photos.json', lines = True);"
   ]
  },
  {
   "cell_type": "code",
   "execution_count": 20,
   "metadata": {},
   "outputs": [
    {
     "data": {
      "text/plain": [
       "146350"
      ]
     },
     "execution_count": 20,
     "metadata": {},
     "output_type": "execute_result"
    }
   ],
   "source": [
    "len(checkins)"
   ]
  },
  {
   "cell_type": "code",
   "execution_count": 25,
   "metadata": {},
   "outputs": [
    {
     "data": {
      "text/html": [
       "<div>\n",
       "<style scoped>\n",
       "    .dataframe tbody tr th:only-of-type {\n",
       "        vertical-align: middle;\n",
       "    }\n",
       "\n",
       "    .dataframe tbody tr th {\n",
       "        vertical-align: top;\n",
       "    }\n",
       "\n",
       "    .dataframe thead th {\n",
       "        text-align: right;\n",
       "    }\n",
       "</style>\n",
       "<table border=\"1\" class=\"dataframe\">\n",
       "  <thead>\n",
       "    <tr style=\"text-align: right;\">\n",
       "      <th></th>\n",
       "      <th>business_id</th>\n",
       "      <th>time</th>\n",
       "    </tr>\n",
       "  </thead>\n",
       "  <tbody>\n",
       "    <tr>\n",
       "      <th>146345</th>\n",
       "      <td>z4EIzLJlGd7gyje1Q_hKtw</td>\n",
       "      <td>{'Friday': {'22:00': 1}, 'Saturday': {'20:00':...</td>\n",
       "    </tr>\n",
       "    <tr>\n",
       "      <th>146346</th>\n",
       "      <td>cQvAOJPEoXqi2IUwqDwo6w</td>\n",
       "      <td>{'Tuesday': {'23:00': 24}, 'Wednesday': {'14:0...</td>\n",
       "    </tr>\n",
       "    <tr>\n",
       "      <th>146347</th>\n",
       "      <td>xf72Yt6l6YUcqz7xCrWSwQ</td>\n",
       "      <td>{'Friday': {'21:00': 1}}</td>\n",
       "    </tr>\n",
       "    <tr>\n",
       "      <th>146348</th>\n",
       "      <td>ZqTXN4qh0Ta1Lp8Z3v-dKg</td>\n",
       "      <td>{'Friday': {'16:00': 1, '23:00': 2}, 'Saturday...</td>\n",
       "    </tr>\n",
       "    <tr>\n",
       "      <th>146349</th>\n",
       "      <td>aY0ZSpAK7h7-SmP6KVS8oA</td>\n",
       "      <td>{'Friday': {'15:00': 1, '1:00': 1}, 'Thursday'...</td>\n",
       "    </tr>\n",
       "  </tbody>\n",
       "</table>\n",
       "</div>"
      ],
      "text/plain": [
       "                   business_id  \\\n",
       "146345  z4EIzLJlGd7gyje1Q_hKtw   \n",
       "146346  cQvAOJPEoXqi2IUwqDwo6w   \n",
       "146347  xf72Yt6l6YUcqz7xCrWSwQ   \n",
       "146348  ZqTXN4qh0Ta1Lp8Z3v-dKg   \n",
       "146349  aY0ZSpAK7h7-SmP6KVS8oA   \n",
       "\n",
       "                                                     time  \n",
       "146345  {'Friday': {'22:00': 1}, 'Saturday': {'20:00':...  \n",
       "146346  {'Tuesday': {'23:00': 24}, 'Wednesday': {'14:0...  \n",
       "146347                           {'Friday': {'21:00': 1}}  \n",
       "146348  {'Friday': {'16:00': 1, '23:00': 2}, 'Saturday...  \n",
       "146349  {'Friday': {'15:00': 1, '1:00': 1}, 'Thursday'...  "
      ]
     },
     "execution_count": 25,
     "metadata": {},
     "output_type": "execute_result"
    }
   ],
   "source": [
    "checkins.tail()"
   ]
  },
  {
   "cell_type": "code",
   "execution_count": 21,
   "metadata": {},
   "outputs": [],
   "source": [
    "new = json_normalize(checkins['time'])"
   ]
  },
  {
   "cell_type": "code",
   "execution_count": 22,
   "metadata": {},
   "outputs": [
    {
     "data": {
      "text/plain": [
       "146350"
      ]
     },
     "execution_count": 22,
     "metadata": {},
     "output_type": "execute_result"
    }
   ],
   "source": [
    "len(new)"
   ]
  },
  {
   "cell_type": "code",
   "execution_count": 26,
   "metadata": {},
   "outputs": [],
   "source": [
    "from pandas.io.json import json_normalize\n",
    "new_check = checkins.append(json_normalize(checkins['time']))"
   ]
  },
  {
   "cell_type": "code",
   "execution_count": 27,
   "metadata": {},
   "outputs": [
    {
     "data": {
      "text/html": [
       "<div>\n",
       "<style scoped>\n",
       "    .dataframe tbody tr th:only-of-type {\n",
       "        vertical-align: middle;\n",
       "    }\n",
       "\n",
       "    .dataframe tbody tr th {\n",
       "        vertical-align: top;\n",
       "    }\n",
       "\n",
       "    .dataframe thead th {\n",
       "        text-align: right;\n",
       "    }\n",
       "</style>\n",
       "<table border=\"1\" class=\"dataframe\">\n",
       "  <thead>\n",
       "    <tr style=\"text-align: right;\">\n",
       "      <th></th>\n",
       "      <th>Friday.0:00</th>\n",
       "      <th>Friday.10:00</th>\n",
       "      <th>Friday.11:00</th>\n",
       "      <th>Friday.12:00</th>\n",
       "      <th>Friday.13:00</th>\n",
       "      <th>Friday.14:00</th>\n",
       "      <th>Friday.15:00</th>\n",
       "      <th>Friday.16:00</th>\n",
       "      <th>Friday.17:00</th>\n",
       "      <th>Friday.18:00</th>\n",
       "      <th>...</th>\n",
       "      <th>Wednesday.2:00</th>\n",
       "      <th>Wednesday.3:00</th>\n",
       "      <th>Wednesday.4:00</th>\n",
       "      <th>Wednesday.5:00</th>\n",
       "      <th>Wednesday.6:00</th>\n",
       "      <th>Wednesday.7:00</th>\n",
       "      <th>Wednesday.8:00</th>\n",
       "      <th>Wednesday.9:00</th>\n",
       "      <th>business_id</th>\n",
       "      <th>time</th>\n",
       "    </tr>\n",
       "  </thead>\n",
       "  <tbody>\n",
       "    <tr>\n",
       "      <th>146345</th>\n",
       "      <td>NaN</td>\n",
       "      <td>NaN</td>\n",
       "      <td>NaN</td>\n",
       "      <td>NaN</td>\n",
       "      <td>NaN</td>\n",
       "      <td>NaN</td>\n",
       "      <td>NaN</td>\n",
       "      <td>NaN</td>\n",
       "      <td>NaN</td>\n",
       "      <td>NaN</td>\n",
       "      <td>...</td>\n",
       "      <td>NaN</td>\n",
       "      <td>NaN</td>\n",
       "      <td>NaN</td>\n",
       "      <td>NaN</td>\n",
       "      <td>NaN</td>\n",
       "      <td>NaN</td>\n",
       "      <td>NaN</td>\n",
       "      <td>NaN</td>\n",
       "      <td>NaN</td>\n",
       "      <td>NaN</td>\n",
       "    </tr>\n",
       "    <tr>\n",
       "      <th>146346</th>\n",
       "      <td>NaN</td>\n",
       "      <td>NaN</td>\n",
       "      <td>NaN</td>\n",
       "      <td>NaN</td>\n",
       "      <td>NaN</td>\n",
       "      <td>NaN</td>\n",
       "      <td>NaN</td>\n",
       "      <td>NaN</td>\n",
       "      <td>NaN</td>\n",
       "      <td>NaN</td>\n",
       "      <td>...</td>\n",
       "      <td>NaN</td>\n",
       "      <td>NaN</td>\n",
       "      <td>NaN</td>\n",
       "      <td>NaN</td>\n",
       "      <td>NaN</td>\n",
       "      <td>NaN</td>\n",
       "      <td>NaN</td>\n",
       "      <td>NaN</td>\n",
       "      <td>NaN</td>\n",
       "      <td>NaN</td>\n",
       "    </tr>\n",
       "    <tr>\n",
       "      <th>146347</th>\n",
       "      <td>NaN</td>\n",
       "      <td>NaN</td>\n",
       "      <td>NaN</td>\n",
       "      <td>NaN</td>\n",
       "      <td>NaN</td>\n",
       "      <td>NaN</td>\n",
       "      <td>NaN</td>\n",
       "      <td>NaN</td>\n",
       "      <td>NaN</td>\n",
       "      <td>NaN</td>\n",
       "      <td>...</td>\n",
       "      <td>NaN</td>\n",
       "      <td>NaN</td>\n",
       "      <td>NaN</td>\n",
       "      <td>NaN</td>\n",
       "      <td>NaN</td>\n",
       "      <td>NaN</td>\n",
       "      <td>NaN</td>\n",
       "      <td>NaN</td>\n",
       "      <td>NaN</td>\n",
       "      <td>NaN</td>\n",
       "    </tr>\n",
       "    <tr>\n",
       "      <th>146348</th>\n",
       "      <td>NaN</td>\n",
       "      <td>NaN</td>\n",
       "      <td>NaN</td>\n",
       "      <td>NaN</td>\n",
       "      <td>NaN</td>\n",
       "      <td>NaN</td>\n",
       "      <td>NaN</td>\n",
       "      <td>1.0</td>\n",
       "      <td>NaN</td>\n",
       "      <td>NaN</td>\n",
       "      <td>...</td>\n",
       "      <td>NaN</td>\n",
       "      <td>NaN</td>\n",
       "      <td>NaN</td>\n",
       "      <td>NaN</td>\n",
       "      <td>NaN</td>\n",
       "      <td>NaN</td>\n",
       "      <td>NaN</td>\n",
       "      <td>NaN</td>\n",
       "      <td>NaN</td>\n",
       "      <td>NaN</td>\n",
       "    </tr>\n",
       "    <tr>\n",
       "      <th>146349</th>\n",
       "      <td>NaN</td>\n",
       "      <td>NaN</td>\n",
       "      <td>NaN</td>\n",
       "      <td>NaN</td>\n",
       "      <td>NaN</td>\n",
       "      <td>NaN</td>\n",
       "      <td>1.0</td>\n",
       "      <td>NaN</td>\n",
       "      <td>NaN</td>\n",
       "      <td>NaN</td>\n",
       "      <td>...</td>\n",
       "      <td>NaN</td>\n",
       "      <td>NaN</td>\n",
       "      <td>NaN</td>\n",
       "      <td>NaN</td>\n",
       "      <td>NaN</td>\n",
       "      <td>NaN</td>\n",
       "      <td>NaN</td>\n",
       "      <td>NaN</td>\n",
       "      <td>NaN</td>\n",
       "      <td>NaN</td>\n",
       "    </tr>\n",
       "  </tbody>\n",
       "</table>\n",
       "<p>5 rows × 170 columns</p>\n",
       "</div>"
      ],
      "text/plain": [
       "        Friday.0:00  Friday.10:00  Friday.11:00  Friday.12:00  Friday.13:00  \\\n",
       "146345          NaN           NaN           NaN           NaN           NaN   \n",
       "146346          NaN           NaN           NaN           NaN           NaN   \n",
       "146347          NaN           NaN           NaN           NaN           NaN   \n",
       "146348          NaN           NaN           NaN           NaN           NaN   \n",
       "146349          NaN           NaN           NaN           NaN           NaN   \n",
       "\n",
       "        Friday.14:00  Friday.15:00  Friday.16:00  Friday.17:00  Friday.18:00  \\\n",
       "146345           NaN           NaN           NaN           NaN           NaN   \n",
       "146346           NaN           NaN           NaN           NaN           NaN   \n",
       "146347           NaN           NaN           NaN           NaN           NaN   \n",
       "146348           NaN           NaN           1.0           NaN           NaN   \n",
       "146349           NaN           1.0           NaN           NaN           NaN   \n",
       "\n",
       "        ...   Wednesday.2:00  Wednesday.3:00  Wednesday.4:00  Wednesday.5:00  \\\n",
       "146345  ...              NaN             NaN             NaN             NaN   \n",
       "146346  ...              NaN             NaN             NaN             NaN   \n",
       "146347  ...              NaN             NaN             NaN             NaN   \n",
       "146348  ...              NaN             NaN             NaN             NaN   \n",
       "146349  ...              NaN             NaN             NaN             NaN   \n",
       "\n",
       "        Wednesday.6:00  Wednesday.7:00  Wednesday.8:00  Wednesday.9:00  \\\n",
       "146345             NaN             NaN             NaN             NaN   \n",
       "146346             NaN             NaN             NaN             NaN   \n",
       "146347             NaN             NaN             NaN             NaN   \n",
       "146348             NaN             NaN             NaN             NaN   \n",
       "146349             NaN             NaN             NaN             NaN   \n",
       "\n",
       "        business_id  time  \n",
       "146345          NaN   NaN  \n",
       "146346          NaN   NaN  \n",
       "146347          NaN   NaN  \n",
       "146348          NaN   NaN  \n",
       "146349          NaN   NaN  \n",
       "\n",
       "[5 rows x 170 columns]"
      ]
     },
     "execution_count": 27,
     "metadata": {},
     "output_type": "execute_result"
    }
   ],
   "source": [
    "new_check.tail()"
   ]
  },
  {
   "cell_type": "code",
   "execution_count": null,
   "metadata": {
    "collapsed": true
   },
   "outputs": [],
   "source": []
  }
 ],
 "metadata": {
  "kernelspec": {
   "display_name": "Python 3",
   "language": "python",
   "name": "python3"
  },
  "language_info": {
   "codemirror_mode": {
    "name": "ipython",
    "version": 3
   },
   "file_extension": ".py",
   "mimetype": "text/x-python",
   "name": "python",
   "nbconvert_exporter": "python",
   "pygments_lexer": "ipython3",
   "version": "3.6.4"
  }
 },
 "nbformat": 4,
 "nbformat_minor": 2
}
