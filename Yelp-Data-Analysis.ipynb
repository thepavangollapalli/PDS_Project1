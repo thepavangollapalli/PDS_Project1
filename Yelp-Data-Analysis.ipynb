{
 "cells": [
  {
   "cell_type": "code",
   "execution_count": 16,
   "metadata": {},
   "outputs": [],
   "source": [
    "import pandas as pd\n",
    "import numpy as np"
   ]
  },
  {
   "cell_type": "code",
   "execution_count": 17,
   "metadata": {},
   "outputs": [],
   "source": [
    "checkins = pd.read_json('dataset/checkin.json', lines = True);\n",
    "business = pd.read_json('dataset/business.json', lines = True);"
   ]
  },
  {
   "cell_type": "markdown",
   "metadata": {},
   "source": [
    "# Checkin and business data\n",
    "## Time breakdown"
   ]
  },
  {
   "cell_type": "code",
   "execution_count": 4,
   "metadata": {},
   "outputs": [
    {
     "data": {
      "text/html": [
       "<div>\n",
       "<style scoped>\n",
       "    .dataframe tbody tr th:only-of-type {\n",
       "        vertical-align: middle;\n",
       "    }\n",
       "\n",
       "    .dataframe tbody tr th {\n",
       "        vertical-align: top;\n",
       "    }\n",
       "\n",
       "    .dataframe thead th {\n",
       "        text-align: right;\n",
       "    }\n",
       "</style>\n",
       "<table border=\"1\" class=\"dataframe\">\n",
       "  <thead>\n",
       "    <tr style=\"text-align: right;\">\n",
       "      <th></th>\n",
       "      <th>business_id</th>\n",
       "      <th>time</th>\n",
       "    </tr>\n",
       "  </thead>\n",
       "  <tbody>\n",
       "    <tr>\n",
       "      <th>0</th>\n",
       "      <td>7KPBkxAOEtb3QeIL9PEErg</td>\n",
       "      <td>{'Thursday': {'21:00': 4, '1:00': 1, '4:00': 1...</td>\n",
       "    </tr>\n",
       "    <tr>\n",
       "      <th>1</th>\n",
       "      <td>kREVIrSBbtqBhIYkTccQUg</td>\n",
       "      <td>{'Monday': {'13:00': 1}, 'Thursday': {'20:00':...</td>\n",
       "    </tr>\n",
       "    <tr>\n",
       "      <th>2</th>\n",
       "      <td>tJRDll5yqpZwehenzE2cSg</td>\n",
       "      <td>{'Monday': {'12:00': 1, '1:00': 1}, 'Friday': ...</td>\n",
       "    </tr>\n",
       "    <tr>\n",
       "      <th>3</th>\n",
       "      <td>r1p7RAMzCV_6NPF0dNoR3g</td>\n",
       "      <td>{'Thursday': {'23:00': 1}, 'Saturday': {'21:00...</td>\n",
       "    </tr>\n",
       "    <tr>\n",
       "      <th>4</th>\n",
       "      <td>mDdqgfrvROGAumcQdZ3HIg</td>\n",
       "      <td>{'Monday': {'12:00': 1, '21:00': 1}, 'Wednesda...</td>\n",
       "    </tr>\n",
       "  </tbody>\n",
       "</table>\n",
       "</div>"
      ],
      "text/plain": [
       "              business_id                                               time\n",
       "0  7KPBkxAOEtb3QeIL9PEErg  {'Thursday': {'21:00': 4, '1:00': 1, '4:00': 1...\n",
       "1  kREVIrSBbtqBhIYkTccQUg  {'Monday': {'13:00': 1}, 'Thursday': {'20:00':...\n",
       "2  tJRDll5yqpZwehenzE2cSg  {'Monday': {'12:00': 1, '1:00': 1}, 'Friday': ...\n",
       "3  r1p7RAMzCV_6NPF0dNoR3g  {'Thursday': {'23:00': 1}, 'Saturday': {'21:00...\n",
       "4  mDdqgfrvROGAumcQdZ3HIg  {'Monday': {'12:00': 1, '21:00': 1}, 'Wednesda..."
      ]
     },
     "execution_count": 4,
     "metadata": {},
     "output_type": "execute_result"
    }
   ],
   "source": [
    "checkins.head()"
   ]
  },
  {
   "cell_type": "markdown",
   "metadata": {},
   "source": [
    "We need to flatten out the time object for each checkin, and create a new dataframe with the checkins per timeslot linked to the business id."
   ]
  },
  {
   "cell_type": "code",
   "execution_count": 9,
   "metadata": {},
   "outputs": [],
   "source": [
    "from pandas.io.json import json_normalize\n",
    "new_checkins = json_normalize(checkins['time'])\n",
    "new_checkins['business_id'] = checkins['business_id']\n",
    "flat_checkins = new_checkins.set_index('business_id')"
   ]
  },
  {
   "cell_type": "code",
   "execution_count": 6,
   "metadata": {},
   "outputs": [
    {
     "data": {
      "text/html": [
       "<div>\n",
       "<style scoped>\n",
       "    .dataframe tbody tr th:only-of-type {\n",
       "        vertical-align: middle;\n",
       "    }\n",
       "\n",
       "    .dataframe tbody tr th {\n",
       "        vertical-align: top;\n",
       "    }\n",
       "\n",
       "    .dataframe thead th {\n",
       "        text-align: right;\n",
       "    }\n",
       "</style>\n",
       "<table border=\"1\" class=\"dataframe\">\n",
       "  <thead>\n",
       "    <tr style=\"text-align: right;\">\n",
       "      <th></th>\n",
       "      <th>Friday.0:00</th>\n",
       "      <th>Friday.10:00</th>\n",
       "      <th>Friday.11:00</th>\n",
       "      <th>Friday.12:00</th>\n",
       "      <th>Friday.13:00</th>\n",
       "      <th>Friday.14:00</th>\n",
       "      <th>Friday.15:00</th>\n",
       "      <th>Friday.16:00</th>\n",
       "      <th>Friday.17:00</th>\n",
       "      <th>Friday.18:00</th>\n",
       "      <th>...</th>\n",
       "      <th>Wednesday.22:00</th>\n",
       "      <th>Wednesday.23:00</th>\n",
       "      <th>Wednesday.2:00</th>\n",
       "      <th>Wednesday.3:00</th>\n",
       "      <th>Wednesday.4:00</th>\n",
       "      <th>Wednesday.5:00</th>\n",
       "      <th>Wednesday.6:00</th>\n",
       "      <th>Wednesday.7:00</th>\n",
       "      <th>Wednesday.8:00</th>\n",
       "      <th>Wednesday.9:00</th>\n",
       "    </tr>\n",
       "    <tr>\n",
       "      <th>business_id</th>\n",
       "      <th></th>\n",
       "      <th></th>\n",
       "      <th></th>\n",
       "      <th></th>\n",
       "      <th></th>\n",
       "      <th></th>\n",
       "      <th></th>\n",
       "      <th></th>\n",
       "      <th></th>\n",
       "      <th></th>\n",
       "      <th></th>\n",
       "      <th></th>\n",
       "      <th></th>\n",
       "      <th></th>\n",
       "      <th></th>\n",
       "      <th></th>\n",
       "      <th></th>\n",
       "      <th></th>\n",
       "      <th></th>\n",
       "      <th></th>\n",
       "      <th></th>\n",
       "    </tr>\n",
       "  </thead>\n",
       "  <tbody>\n",
       "    <tr>\n",
       "      <th>z4EIzLJlGd7gyje1Q_hKtw</th>\n",
       "      <td>NaN</td>\n",
       "      <td>NaN</td>\n",
       "      <td>NaN</td>\n",
       "      <td>NaN</td>\n",
       "      <td>NaN</td>\n",
       "      <td>NaN</td>\n",
       "      <td>NaN</td>\n",
       "      <td>NaN</td>\n",
       "      <td>NaN</td>\n",
       "      <td>NaN</td>\n",
       "      <td>...</td>\n",
       "      <td>NaN</td>\n",
       "      <td>NaN</td>\n",
       "      <td>NaN</td>\n",
       "      <td>NaN</td>\n",
       "      <td>NaN</td>\n",
       "      <td>NaN</td>\n",
       "      <td>NaN</td>\n",
       "      <td>NaN</td>\n",
       "      <td>NaN</td>\n",
       "      <td>NaN</td>\n",
       "    </tr>\n",
       "    <tr>\n",
       "      <th>cQvAOJPEoXqi2IUwqDwo6w</th>\n",
       "      <td>NaN</td>\n",
       "      <td>NaN</td>\n",
       "      <td>NaN</td>\n",
       "      <td>NaN</td>\n",
       "      <td>NaN</td>\n",
       "      <td>NaN</td>\n",
       "      <td>NaN</td>\n",
       "      <td>NaN</td>\n",
       "      <td>NaN</td>\n",
       "      <td>NaN</td>\n",
       "      <td>...</td>\n",
       "      <td>NaN</td>\n",
       "      <td>NaN</td>\n",
       "      <td>NaN</td>\n",
       "      <td>NaN</td>\n",
       "      <td>NaN</td>\n",
       "      <td>NaN</td>\n",
       "      <td>NaN</td>\n",
       "      <td>NaN</td>\n",
       "      <td>NaN</td>\n",
       "      <td>NaN</td>\n",
       "    </tr>\n",
       "    <tr>\n",
       "      <th>xf72Yt6l6YUcqz7xCrWSwQ</th>\n",
       "      <td>NaN</td>\n",
       "      <td>NaN</td>\n",
       "      <td>NaN</td>\n",
       "      <td>NaN</td>\n",
       "      <td>NaN</td>\n",
       "      <td>NaN</td>\n",
       "      <td>NaN</td>\n",
       "      <td>NaN</td>\n",
       "      <td>NaN</td>\n",
       "      <td>NaN</td>\n",
       "      <td>...</td>\n",
       "      <td>NaN</td>\n",
       "      <td>NaN</td>\n",
       "      <td>NaN</td>\n",
       "      <td>NaN</td>\n",
       "      <td>NaN</td>\n",
       "      <td>NaN</td>\n",
       "      <td>NaN</td>\n",
       "      <td>NaN</td>\n",
       "      <td>NaN</td>\n",
       "      <td>NaN</td>\n",
       "    </tr>\n",
       "    <tr>\n",
       "      <th>ZqTXN4qh0Ta1Lp8Z3v-dKg</th>\n",
       "      <td>NaN</td>\n",
       "      <td>NaN</td>\n",
       "      <td>NaN</td>\n",
       "      <td>NaN</td>\n",
       "      <td>NaN</td>\n",
       "      <td>NaN</td>\n",
       "      <td>NaN</td>\n",
       "      <td>1.0</td>\n",
       "      <td>NaN</td>\n",
       "      <td>NaN</td>\n",
       "      <td>...</td>\n",
       "      <td>NaN</td>\n",
       "      <td>NaN</td>\n",
       "      <td>NaN</td>\n",
       "      <td>NaN</td>\n",
       "      <td>NaN</td>\n",
       "      <td>NaN</td>\n",
       "      <td>NaN</td>\n",
       "      <td>NaN</td>\n",
       "      <td>NaN</td>\n",
       "      <td>NaN</td>\n",
       "    </tr>\n",
       "    <tr>\n",
       "      <th>aY0ZSpAK7h7-SmP6KVS8oA</th>\n",
       "      <td>NaN</td>\n",
       "      <td>NaN</td>\n",
       "      <td>NaN</td>\n",
       "      <td>NaN</td>\n",
       "      <td>NaN</td>\n",
       "      <td>NaN</td>\n",
       "      <td>1.0</td>\n",
       "      <td>NaN</td>\n",
       "      <td>NaN</td>\n",
       "      <td>NaN</td>\n",
       "      <td>...</td>\n",
       "      <td>NaN</td>\n",
       "      <td>NaN</td>\n",
       "      <td>NaN</td>\n",
       "      <td>NaN</td>\n",
       "      <td>NaN</td>\n",
       "      <td>NaN</td>\n",
       "      <td>NaN</td>\n",
       "      <td>NaN</td>\n",
       "      <td>NaN</td>\n",
       "      <td>NaN</td>\n",
       "    </tr>\n",
       "  </tbody>\n",
       "</table>\n",
       "<p>5 rows × 168 columns</p>\n",
       "</div>"
      ],
      "text/plain": [
       "                        Friday.0:00  Friday.10:00  Friday.11:00  Friday.12:00  \\\n",
       "business_id                                                                     \n",
       "z4EIzLJlGd7gyje1Q_hKtw          NaN           NaN           NaN           NaN   \n",
       "cQvAOJPEoXqi2IUwqDwo6w          NaN           NaN           NaN           NaN   \n",
       "xf72Yt6l6YUcqz7xCrWSwQ          NaN           NaN           NaN           NaN   \n",
       "ZqTXN4qh0Ta1Lp8Z3v-dKg          NaN           NaN           NaN           NaN   \n",
       "aY0ZSpAK7h7-SmP6KVS8oA          NaN           NaN           NaN           NaN   \n",
       "\n",
       "                        Friday.13:00  Friday.14:00  Friday.15:00  \\\n",
       "business_id                                                        \n",
       "z4EIzLJlGd7gyje1Q_hKtw           NaN           NaN           NaN   \n",
       "cQvAOJPEoXqi2IUwqDwo6w           NaN           NaN           NaN   \n",
       "xf72Yt6l6YUcqz7xCrWSwQ           NaN           NaN           NaN   \n",
       "ZqTXN4qh0Ta1Lp8Z3v-dKg           NaN           NaN           NaN   \n",
       "aY0ZSpAK7h7-SmP6KVS8oA           NaN           NaN           1.0   \n",
       "\n",
       "                        Friday.16:00  Friday.17:00  Friday.18:00  \\\n",
       "business_id                                                        \n",
       "z4EIzLJlGd7gyje1Q_hKtw           NaN           NaN           NaN   \n",
       "cQvAOJPEoXqi2IUwqDwo6w           NaN           NaN           NaN   \n",
       "xf72Yt6l6YUcqz7xCrWSwQ           NaN           NaN           NaN   \n",
       "ZqTXN4qh0Ta1Lp8Z3v-dKg           1.0           NaN           NaN   \n",
       "aY0ZSpAK7h7-SmP6KVS8oA           NaN           NaN           NaN   \n",
       "\n",
       "                             ...        Wednesday.22:00  Wednesday.23:00  \\\n",
       "business_id                  ...                                           \n",
       "z4EIzLJlGd7gyje1Q_hKtw       ...                    NaN              NaN   \n",
       "cQvAOJPEoXqi2IUwqDwo6w       ...                    NaN              NaN   \n",
       "xf72Yt6l6YUcqz7xCrWSwQ       ...                    NaN              NaN   \n",
       "ZqTXN4qh0Ta1Lp8Z3v-dKg       ...                    NaN              NaN   \n",
       "aY0ZSpAK7h7-SmP6KVS8oA       ...                    NaN              NaN   \n",
       "\n",
       "                        Wednesday.2:00  Wednesday.3:00  Wednesday.4:00  \\\n",
       "business_id                                                              \n",
       "z4EIzLJlGd7gyje1Q_hKtw             NaN             NaN             NaN   \n",
       "cQvAOJPEoXqi2IUwqDwo6w             NaN             NaN             NaN   \n",
       "xf72Yt6l6YUcqz7xCrWSwQ             NaN             NaN             NaN   \n",
       "ZqTXN4qh0Ta1Lp8Z3v-dKg             NaN             NaN             NaN   \n",
       "aY0ZSpAK7h7-SmP6KVS8oA             NaN             NaN             NaN   \n",
       "\n",
       "                        Wednesday.5:00  Wednesday.6:00  Wednesday.7:00  \\\n",
       "business_id                                                              \n",
       "z4EIzLJlGd7gyje1Q_hKtw             NaN             NaN             NaN   \n",
       "cQvAOJPEoXqi2IUwqDwo6w             NaN             NaN             NaN   \n",
       "xf72Yt6l6YUcqz7xCrWSwQ             NaN             NaN             NaN   \n",
       "ZqTXN4qh0Ta1Lp8Z3v-dKg             NaN             NaN             NaN   \n",
       "aY0ZSpAK7h7-SmP6KVS8oA             NaN             NaN             NaN   \n",
       "\n",
       "                        Wednesday.8:00  Wednesday.9:00  \n",
       "business_id                                             \n",
       "z4EIzLJlGd7gyje1Q_hKtw             NaN             NaN  \n",
       "cQvAOJPEoXqi2IUwqDwo6w             NaN             NaN  \n",
       "xf72Yt6l6YUcqz7xCrWSwQ             NaN             NaN  \n",
       "ZqTXN4qh0Ta1Lp8Z3v-dKg             NaN             NaN  \n",
       "aY0ZSpAK7h7-SmP6KVS8oA             NaN             NaN  \n",
       "\n",
       "[5 rows x 168 columns]"
      ]
     },
     "execution_count": 6,
     "metadata": {},
     "output_type": "execute_result"
    }
   ],
   "source": [
    "flat_checkins.tail()"
   ]
  },
  {
   "cell_type": "markdown",
   "metadata": {},
   "source": [
    "Now, we can apply a lambda function to each column and sort the result to see which times have the most checkins. From the data, it appears that the weekend lunch and dinner rushes have the most number of checkins on Yelp."
   ]
  },
  {
   "cell_type": "code",
   "execution_count": 7,
   "metadata": {},
   "outputs": [
    {
     "data": {
      "text/plain": [
       "Saturday.19:00    251537.0\n",
       "Saturday.20:00    246969.0\n",
       "Saturday.1:00     245453.0\n",
       "Saturday.2:00     236195.0\n",
       "Sunday.1:00       235295.0\n",
       "Saturday.21:00    229788.0\n",
       "Sunday.19:00      229561.0\n",
       "Saturday.18:00    225651.0\n",
       "Sunday.0:00       225209.0\n",
       "Sunday.2:00       224716.0\n",
       "dtype: float64"
      ]
     },
     "execution_count": 7,
     "metadata": {},
     "output_type": "execute_result"
    }
   ],
   "source": [
    "ordered_checkins = flat_checkins.apply(lambda ser: ser.sum()).sort_values(ascending=False)\n",
    "pd.DataFrame(ordered_checkins).to_csv(path_or_buf='checkin_times.csv')\n",
    "ordered_checkins.head(10)"
   ]
  },
  {
   "cell_type": "markdown",
   "metadata": {},
   "source": [
    "This data can be visualized as follows, and we can see from the graph that for every day of the week checkins drop around midday before reaching their peak near nighttime, presumably as people finish their work and go to dinner or businesses."
   ]
  },
  {
   "cell_type": "markdown",
   "metadata": {},
   "source": [
    "This is a visualization of checkins per hour, broken down by what day of the week they occured.\n",
    "\n",
    "<img src=\"checkin1.png\" alt=\"checkins by day and hour\" style=\"width: 500px;\"/>\n",
    "\n",
    "When looking at what day each checkin appears, the weekend understandably is a lot more popular with consumers.\n",
    "\n",
    "<img src=\"checkin2.png\" alt=\"checkins by day\" style=\"width: 300px;\"/>\n",
    "<img src=\"checkin3.png\" alt=\"checkins by day number\" style=\"width: 500px;\"/>\n",
    "\n",
    "When looking at the checkin times for Saturday, most times appear similar to the week breakdown; people are still not as likely to be out at businesses around the middle of the day.\n",
    "\n",
    "<img src=\"checkin4.png\" alt=\"Saturday checkins\" style=\"width: 500px;\"/>"
   ]
  },
  {
   "cell_type": "markdown",
   "metadata": {},
   "source": [
    "## Category breakdown\n",
    "\n",
    "Now, we will sum each business's checkins and use that data to build up checkin counts for each category."
   ]
  },
  {
   "cell_type": "code",
   "execution_count": 27,
   "metadata": {},
   "outputs": [],
   "source": [
    "joined_businesses = flat_checkins.join(business['categories'])\n",
    "business_checkins = flat_checkins.sum(axis=1, numeric_only=True)"
   ]
  },
  {
   "cell_type": "code",
   "execution_count": 9,
   "metadata": {
    "scrolled": true
   },
   "outputs": [
    {
     "data": {
      "text/plain": [
       "business_id\n",
       "7KPBkxAOEtb3QeIL9PEErg    129.0\n",
       "kREVIrSBbtqBhIYkTccQUg      7.0\n",
       "tJRDll5yqpZwehenzE2cSg      5.0\n",
       "r1p7RAMzCV_6NPF0dNoR3g      5.0\n",
       "mDdqgfrvROGAumcQdZ3HIg     29.0\n",
       "Name: total_checkins, dtype: float64"
      ]
     },
     "execution_count": 9,
     "metadata": {},
     "output_type": "execute_result"
    }
   ],
   "source": [
    "business_checkins.name = 'total_checkins'\n",
    "business_checkins.head()"
   ]
  },
  {
   "cell_type": "markdown",
   "metadata": {},
   "source": [
    "We can see each business's categories, but it difficult to work with due to it being stored in an array."
   ]
  },
  {
   "cell_type": "code",
   "execution_count": 10,
   "metadata": {},
   "outputs": [
    {
     "data": {
      "text/html": [
       "<div>\n",
       "<style scoped>\n",
       "    .dataframe tbody tr th:only-of-type {\n",
       "        vertical-align: middle;\n",
       "    }\n",
       "\n",
       "    .dataframe tbody tr th {\n",
       "        vertical-align: top;\n",
       "    }\n",
       "\n",
       "    .dataframe thead th {\n",
       "        text-align: right;\n",
       "    }\n",
       "</style>\n",
       "<table border=\"1\" class=\"dataframe\">\n",
       "  <thead>\n",
       "    <tr style=\"text-align: right;\">\n",
       "      <th></th>\n",
       "      <th>index</th>\n",
       "      <th>categories</th>\n",
       "      <th>total_checkins</th>\n",
       "    </tr>\n",
       "  </thead>\n",
       "  <tbody>\n",
       "    <tr>\n",
       "      <th>0</th>\n",
       "      <td>0</td>\n",
       "      <td>[Dentists, General Dentistry, Health &amp; Medical...</td>\n",
       "      <td>NaN</td>\n",
       "    </tr>\n",
       "    <tr>\n",
       "      <th>1</th>\n",
       "      <td>1</td>\n",
       "      <td>[Hair Stylists, Hair Salons, Men's Hair Salons...</td>\n",
       "      <td>NaN</td>\n",
       "    </tr>\n",
       "    <tr>\n",
       "      <th>2</th>\n",
       "      <td>2</td>\n",
       "      <td>[Departments of Motor Vehicles, Public Service...</td>\n",
       "      <td>NaN</td>\n",
       "    </tr>\n",
       "    <tr>\n",
       "      <th>3</th>\n",
       "      <td>3</td>\n",
       "      <td>[Sporting Goods, Shopping]</td>\n",
       "      <td>NaN</td>\n",
       "    </tr>\n",
       "    <tr>\n",
       "      <th>4</th>\n",
       "      <td>4</td>\n",
       "      <td>[American (New), Nightlife, Bars, Sandwiches, ...</td>\n",
       "      <td>NaN</td>\n",
       "    </tr>\n",
       "  </tbody>\n",
       "</table>\n",
       "</div>"
      ],
      "text/plain": [
       "   index                                         categories  total_checkins\n",
       "0      0  [Dentists, General Dentistry, Health & Medical...             NaN\n",
       "1      1  [Hair Stylists, Hair Salons, Men's Hair Salons...             NaN\n",
       "2      2  [Departments of Motor Vehicles, Public Service...             NaN\n",
       "3      3                         [Sporting Goods, Shopping]             NaN\n",
       "4      4  [American (New), Nightlife, Bars, Sandwiches, ...             NaN"
      ]
     },
     "execution_count": 10,
     "metadata": {},
     "output_type": "execute_result"
    }
   ],
   "source": [
    "s1 = pd.DataFrame(business['categories'])\n",
    "s2 = pd.DataFrame(business_checkins)\n",
    "business_category_checkins = pd.merge(s1, s2, how='left', left_index=True, right_index=True)\n",
    "business_category_checkins = business_category_checkins.reset_index()\n",
    "business_category_checkins.head()"
   ]
  },
  {
   "cell_type": "markdown",
   "metadata": {},
   "source": [
    "In order to better explore each category's checkins, we can reshape the array by splitting each category from the array into its own row, complete with business and checkin information."
   ]
  },
  {
   "cell_type": "code",
   "execution_count": 11,
   "metadata": {},
   "outputs": [
    {
     "ename": "AttributeError",
     "evalue": "'DataFrame' object has no attribute 'business_id'",
     "output_type": "error",
     "traceback": [
      "\u001b[0;31m---------------------------------------------------------------------------\u001b[0m",
      "\u001b[0;31mAttributeError\u001b[0m                            Traceback (most recent call last)",
      "\u001b[0;32m<ipython-input-11-7b66d9fb7b2e>\u001b[0m in \u001b[0;36m<module>\u001b[0;34m()\u001b[0m\n\u001b[1;32m      2\u001b[0m \u001b[0;31m#https://stackoverflow.com/questions/40280265/python-pandas-flatten-with-arrays-in-column\u001b[0m\u001b[0;34m\u001b[0m\u001b[0;34m\u001b[0m\u001b[0m\n\u001b[1;32m      3\u001b[0m df = pd.DataFrame({\n\u001b[0;32m----> 4\u001b[0;31m         \u001b[0;34m\"business_id\"\u001b[0m\u001b[0;34m:\u001b[0m \u001b[0mnp\u001b[0m\u001b[0;34m.\u001b[0m\u001b[0mrepeat\u001b[0m\u001b[0;34m(\u001b[0m\u001b[0mbusiness_category_checkins\u001b[0m\u001b[0;34m.\u001b[0m\u001b[0mbusiness_id\u001b[0m\u001b[0;34m.\u001b[0m\u001b[0mvalues\u001b[0m\u001b[0;34m,\u001b[0m \u001b[0mbusiness_category_checkins\u001b[0m\u001b[0;34m.\u001b[0m\u001b[0mcategories\u001b[0m\u001b[0;34m.\u001b[0m\u001b[0mstr\u001b[0m\u001b[0;34m.\u001b[0m\u001b[0mlen\u001b[0m\u001b[0;34m(\u001b[0m\u001b[0;34m)\u001b[0m\u001b[0;34m)\u001b[0m\u001b[0;34m,\u001b[0m\u001b[0;34m\u001b[0m\u001b[0m\n\u001b[0m\u001b[1;32m      5\u001b[0m         \u001b[0;34m\"total_checkins\"\u001b[0m\u001b[0;34m:\u001b[0m \u001b[0mnp\u001b[0m\u001b[0;34m.\u001b[0m\u001b[0mrepeat\u001b[0m\u001b[0;34m(\u001b[0m\u001b[0mbusiness_category_checkins\u001b[0m\u001b[0;34m.\u001b[0m\u001b[0mtotal_checkins\u001b[0m\u001b[0;34m.\u001b[0m\u001b[0mvalues\u001b[0m\u001b[0;34m,\u001b[0m \u001b[0mbusiness_category_checkins\u001b[0m\u001b[0;34m.\u001b[0m\u001b[0mcategories\u001b[0m\u001b[0;34m.\u001b[0m\u001b[0mstr\u001b[0m\u001b[0;34m.\u001b[0m\u001b[0mlen\u001b[0m\u001b[0;34m(\u001b[0m\u001b[0;34m)\u001b[0m\u001b[0;34m)\u001b[0m\u001b[0;34m,\u001b[0m\u001b[0;34m\u001b[0m\u001b[0m\n\u001b[1;32m      6\u001b[0m         \"category\": list(chain.from_iterable(business_category_checkins.categories))})\n",
      "\u001b[0;32m~/miniconda3/lib/python3.6/site-packages/pandas/core/generic.py\u001b[0m in \u001b[0;36m__getattr__\u001b[0;34m(self, name)\u001b[0m\n\u001b[1;32m   3612\u001b[0m             \u001b[0;32mif\u001b[0m \u001b[0mname\u001b[0m \u001b[0;32min\u001b[0m \u001b[0mself\u001b[0m\u001b[0;34m.\u001b[0m\u001b[0m_info_axis\u001b[0m\u001b[0;34m:\u001b[0m\u001b[0;34m\u001b[0m\u001b[0m\n\u001b[1;32m   3613\u001b[0m                 \u001b[0;32mreturn\u001b[0m \u001b[0mself\u001b[0m\u001b[0;34m[\u001b[0m\u001b[0mname\u001b[0m\u001b[0;34m]\u001b[0m\u001b[0;34m\u001b[0m\u001b[0m\n\u001b[0;32m-> 3614\u001b[0;31m             \u001b[0;32mreturn\u001b[0m \u001b[0mobject\u001b[0m\u001b[0;34m.\u001b[0m\u001b[0m__getattribute__\u001b[0m\u001b[0;34m(\u001b[0m\u001b[0mself\u001b[0m\u001b[0;34m,\u001b[0m \u001b[0mname\u001b[0m\u001b[0;34m)\u001b[0m\u001b[0;34m\u001b[0m\u001b[0m\n\u001b[0m\u001b[1;32m   3615\u001b[0m \u001b[0;34m\u001b[0m\u001b[0m\n\u001b[1;32m   3616\u001b[0m     \u001b[0;32mdef\u001b[0m \u001b[0m__setattr__\u001b[0m\u001b[0;34m(\u001b[0m\u001b[0mself\u001b[0m\u001b[0;34m,\u001b[0m \u001b[0mname\u001b[0m\u001b[0;34m,\u001b[0m \u001b[0mvalue\u001b[0m\u001b[0;34m)\u001b[0m\u001b[0;34m:\u001b[0m\u001b[0;34m\u001b[0m\u001b[0m\n",
      "\u001b[0;31mAttributeError\u001b[0m: 'DataFrame' object has no attribute 'business_id'"
     ]
    }
   ],
   "source": [
    "from  itertools import chain\n",
    "#https://stackoverflow.com/questions/40280265/python-pandas-flatten-with-arrays-in-column\n",
    "df = pd.DataFrame({\n",
    "        \"business_id\": np.repeat(business_category_checkins.business_id.values, business_category_checkins.categories.str.len()),\n",
    "        \"total_checkins\": np.repeat(business_category_checkins.total_checkins.values, business_category_checkins.categories.str.len()),\n",
    "        \"category\": list(chain.from_iterable(business_category_checkins.categories))})\n",
    "df.head()"
   ]
  },
  {
   "cell_type": "markdown",
   "metadata": {},
   "source": [
    "From this dataframe it is trivial to create a pivot table that sums up checkins for each category."
   ]
  },
  {
   "cell_type": "code",
   "execution_count": null,
   "metadata": {},
   "outputs": [],
   "source": [
    "category_checkins = df.pivot_table( index='category', values='total_checkins', aggfunc=sum).sort_values(by='total_checkins', ascending=False)\n",
    "category_checkins.to_csv(path_or_buf='category_checkins.csv')\n",
    "category_checkins[category_checkins['total_checkins'] > 0].tail(10)"
   ]
  },
  {
   "cell_type": "markdown",
   "metadata": {},
   "source": [
    "The most popular categories are restauraunts, bars, and nightlife:\n",
    "\n",
    "<img src=\"category1.png\" alt=\"most popular categories\" style=\"width: 100%;\"/>"
   ]
  },
  {
   "cell_type": "markdown",
   "metadata": {},
   "source": [
    "# Tip and review correlation\n",
    "\n",
    "We are interested in seeing if there is any difference in the different ways users interact with businesses. As such, we wanted to compare tip and review counts for a business, along with also looking at the rating for that business."
   ]
  },
  {
   "cell_type": "code",
   "execution_count": 43,
   "metadata": {},
   "outputs": [],
   "source": [
    "tips = pd.read_json('dataset/tip.json', lines=True)\n",
    "business_tips = tips.groupby('business_id')"
   ]
  },
  {
   "cell_type": "markdown",
   "metadata": {},
   "source": [
    "We can use a lambda function to get the number of tips for each business:"
   ]
  },
  {
   "cell_type": "markdown",
   "metadata": {},
   "source": [
    "ordered_tip_count = business_tips.apply(lambda x: len(x))\n",
    "ordered_tip_count.name = 'tip_count'\n",
    "ordered_tip_count.head()"
   ]
  },
  {
   "cell_type": "markdown",
   "metadata": {},
   "source": [
    "From there, we can join the series to a subset of the business table with review counts and stars and sort the result."
   ]
  },
  {
   "cell_type": "code",
   "execution_count": null,
   "metadata": {},
   "outputs": [],
   "source": [
    "business = business.reset_index()\n",
    "tip_review = pd.DataFrame(business[['stars', 'business_id', 'review_count']]).join(ordered_tip_count, on=\"business_id\").sort_values(by='tip_count', ascending=False)\n",
    "tip_review.to_csv(path_or_buf='tip_review_correlation.csv')\n",
    "tip_review.head()"
   ]
  },
  {
   "cell_type": "markdown",
   "metadata": {},
   "source": [
    "To examine the relationship between these variables, we decided to create multiple graphs displaying the correlation between stars and the number of tips and reviews at a business. Tips and reviews seem to have a relatively strong correlation, at a correlation coefficient of .7038888:\n",
    "\n",
    "<img src=\"reviewtip2.png\" alt=\"state ratings\" style=\"width: 80%;\"/>\n",
    "\n",
    "When looking at the correlations between tips and reviews and the business's star rating, both measures indicate a similar correlation with reviews - most reviews and tips for a business seem to be around a 4-star rating for that business.\n",
    "\n",
    "<img src=\"reviewtip1.png\" alt=\"state ratings\" style=\"width: 45%; float: left;\"/>\n",
    "<img src=\"reviewtip3.png\" alt=\"state ratings\" style=\"width: 45%; float: right;\"/>"
   ]
  },
  {
   "cell_type": "markdown",
   "metadata": {},
   "source": [
    "# Locations of reviews and utilization"
   ]
  },
  {
   "cell_type": "code",
   "execution_count": null,
   "metadata": {},
   "outputs": [],
   "source": [
    "zipcodes = business[['state', 'postal_code', 'stars', 'review_count']].groupby(by='postal_code')\n",
    "len(zipcodes)"
   ]
  },
  {
   "cell_type": "markdown",
   "metadata": {},
   "source": [
    "After grouping, we filter out groups so that only valid US zipcodes are remaining. After this, we apply two lambdas on the remaining groups in order to determine each postal code's average star count and total number of reviews."
   ]
  },
  {
   "cell_type": "code",
   "execution_count": 54,
   "metadata": {},
   "outputs": [],
   "source": [
    "import re\n",
    "\n",
    "zipcode_regex = \"^[0-9]{5}(-/d{4})?$\"\n",
    "\n",
    "allowed_zipcodes = zipcodes.filter(lambda x: re.match(zipcode_regex, x.name) != None).groupby('postal_code')\n",
    "zipcode_ratings = allowed_zipcodes.apply(lambda grp: grp['stars'].sum() / len(grp))\n",
    "zipcode_counts = allowed_zipcodes.apply(lambda grp: grp['review_count'].sum())"
   ]
  },
  {
   "cell_type": "markdown",
   "metadata": {},
   "source": [
    "After creating the series of ratings and counts, we can join them into one dataframe and display the result."
   ]
  },
  {
   "cell_type": "code",
   "execution_count": null,
   "metadata": {},
   "outputs": [],
   "source": [
    "zipcodes_df = pd.DataFrame(zipcode_ratings)\n",
    "zipcodes_df.loc[:,'1'] = zipcode_counts\n",
    "zipcodes_df.columns = ['stars', 'review_count']\n",
    "zipcodes_df.to_csv(path_or_buf='./zipcode_review.csv')\n",
    "zipcodes_df.head(10)"
   ]
  },
  {
   "cell_type": "markdown",
   "metadata": {},
   "source": [
    "When working in Tableau, we joined the table of zipcodes with a table of states, and were able to average the zipcodes out over a map of the states.\n",
    "\n",
    "<img src=\"state_ratings.png\" alt=\"state ratings\" style=\"width: 90%;\"/>\n",
    "\n",
    "Plotting individual postal codes on a map of the United States was, in hindsight, a difficult thing to visualize. Rather than try to graph tiny postal codes on a map, we chose to display it in two ways: with a chart displaying each postal code's reviews and ratings as a dot, and with a bar graph displaying the top 10 best rated zip codes.\n",
    "\n",
    "<img src=\"zipcode2.png\" alt=\"state ratings\" style=\"width: 45%; float\"/>\n",
    "<img src=\"zipcode2.png\" alt=\"state ratings\" style=\"width: 45%\"/>\n",
    "\n",
    "<img src=\"zipcode3.png\" alt=\"state ratings\" style=\"width: 90%;\"/>"
   ]
  },
  {
   "cell_type": "code",
   "execution_count": null,
   "metadata": {},
   "outputs": [],
   "source": []
  }
 ],
 "metadata": {
  "kernelspec": {
   "display_name": "Python 3",
   "language": "python",
   "name": "python3"
  },
  "language_info": {
   "codemirror_mode": {
    "name": "ipython",
    "version": 3
   },
   "file_extension": ".py",
   "mimetype": "text/x-python",
   "name": "python",
   "nbconvert_exporter": "python",
   "pygments_lexer": "ipython3",
   "version": "3.6.4"
  }
 },
 "nbformat": 4,
 "nbformat_minor": 2
}
